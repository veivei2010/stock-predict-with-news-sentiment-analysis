{
 "cells": [
  {
   "cell_type": "code",
   "execution_count": 2,
   "id": "58855827",
   "metadata": {
    "scrolled": true
   },
   "outputs": [],
   "source": [
    "import warnings\n",
    "warnings.filterwarnings(\"ignore\")\n",
    "import time\n",
    "import textract\n",
    "import os\n",
    "import openai\n",
    "import tiktoken\n",
    "import pandas as pd"
   ]
  },
  {
   "cell_type": "code",
   "execution_count": 3,
   "id": "c10715e4",
   "metadata": {},
   "outputs": [],
   "source": [
    "openai.api_key = \"ENTER_YOUR_OPEN_AI_KEY_HERE\"\n",
    "GPT_API_URL = \"https://api.openai.com/v1/chat/completions\""
   ]
  },
  {
   "cell_type": "code",
   "execution_count": 11,
   "id": "2551a28d",
   "metadata": {},
   "outputs": [],
   "source": [
    "def sentiment(title,subtitle,summary):\n",
    "\n",
    "    response = openai.ChatCompletion.create(\n",
    "    model='gpt-3.5-turbo', \n",
    "    messages=[\n",
    "    {\n",
    "      \"role\": \"system\",\n",
    "      \"content\": \"Bạn là một chuyên gia chứng khoán!\"\n",
    "    },\n",
    "    {\n",
    "      \"role\": \"user\",\n",
    "      \"content\": \"Tôi sẽ đưa title, subtitle của bài báo và một vài đoạn liên quan, hãy giúp tôi chấm điểm bài báo đó có ảnh hưởng tích cực hay tiêu cực đối chứng khoán của tập đoàn Vingroup (mã chứng khoán: VIC) trên thang điểm 100. Từ 0-49 là tiêu cực, trong đó 0-rất tiêu cực. Từ 51-100 là tích cực, trong đó 100-rất tích cực. 50 điểm là trung tính, bài báo không tiêu cực cũng không tích cực. \\nBiết rằng, Tập đoàn Vingroup được thành lập năm 2002. Năm 2007, cổ phiếu VIC của Vingroup giao dịch trên Sở Giao dịch Chứng khoán Thành phố Hồ Chí Minh (HOSE). Các lĩnh vực kinh doanh chính của Vingroup bao gồm kinh doanh bất động sản; dịch vụ cho thuê văn phòng, nhà ở, máy móc, thiết bị công trình; kinh doanh khách sạn; dịch vụ giải trí, vui chơi,…\\nChỉ đưa ra 1 điểm số. Không cần giải thích gì thêm. Không cần đưa ra đoạn chứa thông tin liên quan trong bài báo.\\n\\nCâu trả lời ví dụ trong giấu ngoặc kép: \\n\\\"82\\\"\"\n",
    "    },\n",
    "    {\n",
    "      \"role\": \"assistant\",\n",
    "      \"content\": \"Được thôi, title bài báo là gì?\"\n",
    "    },\n",
    "    {\n",
    "      \"role\": \"user\",\n",
    "      \"content\": f\"{title}\"\n",
    "    },\n",
    "    {\n",
    "      \"role\": \"assistant\",\n",
    "      \"content\": \"Subtitle bài báo là gì?\"\n",
    "    },\n",
    "    {\n",
    "      \"role\": \"user\",\n",
    "      \"content\": f\"{subtitle}\"\n",
    "    },\n",
    "    {\n",
    "      \"role\": \"assistant\",\n",
    "      \"content\": \"Đoạn liên quan tới bài báo là gì?\"\n",
    "    },\n",
    "    {\n",
    "      \"role\": \"user\",\n",
    "      \"content\": f\"{summary}\"\n",
    "    }\n",
    "  ],\n",
    "    temperature=0.5,\n",
    "    max_tokens=100,\n",
    "    top_p=1,\n",
    "    frequency_penalty=0,\n",
    "    presence_penalty=0\n",
    "    )\n",
    "    return response['choices'][0]['message']['content']"
   ]
  },
  {
   "cell_type": "code",
   "execution_count": 12,
   "id": "c1fb27d0",
   "metadata": {
    "scrolled": true
   },
   "outputs": [],
   "source": [
    "df=pd.read_csv('enity.csv')"
   ]
  },
  {
   "cell_type": "code",
   "execution_count": 13,
   "id": "8fb7d8dc",
   "metadata": {},
   "outputs": [],
   "source": [
    "df1=df[:1]"
   ]
  },
  {
   "cell_type": "code",
   "execution_count": 14,
   "id": "f5e69f00",
   "metadata": {
    "scrolled": true
   },
   "outputs": [],
   "source": [
    "# Initialise tokenizer\n",
    "tokenizer = tiktoken.get_encoding(\"cl100k_base\")\n",
    "df['result']=\"\"\n",
    "df1['result']=\"\"\n",
    "for index, row in df1.iterrows():\n",
    "    results = []\n",
    "    title = row['title']\n",
    "    subtitle = row['subtitle']\n",
    "    summary = row['summary']\n",
    "    results.append(sentiment(title,subtitle,summary))\n",
    "    time.sleep(10)\n",
    "    df1['result'][index] = results\n",
    "    time.sleep(10)"
   ]
  },
  {
   "cell_type": "code",
   "execution_count": 15,
   "id": "fb53b2ef",
   "metadata": {
    "scrolled": true
   },
   "outputs": [
    {
     "data": {
      "text/html": [
       "<div>\n",
       "<style scoped>\n",
       "    .dataframe tbody tr th:only-of-type {\n",
       "        vertical-align: middle;\n",
       "    }\n",
       "\n",
       "    .dataframe tbody tr th {\n",
       "        vertical-align: top;\n",
       "    }\n",
       "\n",
       "    .dataframe thead th {\n",
       "        text-align: right;\n",
       "    }\n",
       "</style>\n",
       "<table border=\"1\" class=\"dataframe\">\n",
       "  <thead>\n",
       "    <tr style=\"text-align: right;\">\n",
       "      <th></th>\n",
       "      <th>Unnamed: 0</th>\n",
       "      <th>href</th>\n",
       "      <th>title</th>\n",
       "      <th>subtitle</th>\n",
       "      <th>content</th>\n",
       "      <th>time</th>\n",
       "      <th>summary</th>\n",
       "      <th>result</th>\n",
       "    </tr>\n",
       "  </thead>\n",
       "  <tbody>\n",
       "    <tr>\n",
       "      <th>0</th>\n",
       "      <td>0</td>\n",
       "      <td>https://cafef.vn/ong-pham-nhat-vuong-gia-vic-r...</td>\n",
       "      <td>Ông Phạm Nhật Vượng: “Giá VIC rất thấp so với ...</td>\n",
       "      <td>Ông Vượng cũng nói thêm: “Có thể do tin đồn, t...</td>\n",
       "      <td>“VinFast IPO thành công thì cổ đông có được ưu...</td>\n",
       "      <td>17-05-2023 - 11:38 AM</td>\n",
       "      <td>['1. Stock code(s): VIC; Vingroup\\n   - \"VinFa...</td>\n",
       "      <td>[50]</td>\n",
       "    </tr>\n",
       "  </tbody>\n",
       "</table>\n",
       "</div>"
      ],
      "text/plain": [
       "   Unnamed: 0                                               href  \\\n",
       "0           0  https://cafef.vn/ong-pham-nhat-vuong-gia-vic-r...   \n",
       "\n",
       "                                               title  \\\n",
       "0  Ông Phạm Nhật Vượng: “Giá VIC rất thấp so với ...   \n",
       "\n",
       "                                            subtitle  \\\n",
       "0  Ông Vượng cũng nói thêm: “Có thể do tin đồn, t...   \n",
       "\n",
       "                                             content                   time  \\\n",
       "0  “VinFast IPO thành công thì cổ đông có được ưu...  17-05-2023 - 11:38 AM   \n",
       "\n",
       "                                             summary result  \n",
       "0  ['1. Stock code(s): VIC; Vingroup\\n   - \"VinFa...   [50]  "
      ]
     },
     "execution_count": 15,
     "metadata": {},
     "output_type": "execute_result"
    }
   ],
   "source": [
    "df1"
   ]
  },
  {
   "cell_type": "code",
   "execution_count": 10,
   "id": "42f8e335",
   "metadata": {},
   "outputs": [],
   "source": [
    "df.to_csv('sentiment.csv')"
   ]
  }
 ],
 "metadata": {
  "kernelspec": {
   "display_name": "Python 3 (ipykernel)",
   "language": "python",
   "name": "python3"
  },
  "language_info": {
   "codemirror_mode": {
    "name": "ipython",
    "version": 3
   },
   "file_extension": ".py",
   "mimetype": "text/x-python",
   "name": "python",
   "nbconvert_exporter": "python",
   "pygments_lexer": "ipython3",
   "version": "3.8.8"
  }
 },
 "nbformat": 4,
 "nbformat_minor": 5
}

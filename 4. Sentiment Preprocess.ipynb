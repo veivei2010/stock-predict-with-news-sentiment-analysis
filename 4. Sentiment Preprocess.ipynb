{
 "cells": [
  {
   "cell_type": "markdown",
   "id": "edcacdf9",
   "metadata": {},
   "source": [
    "# Module"
   ]
  },
  {
   "cell_type": "code",
   "execution_count": 3,
   "id": "b91ccfbc",
   "metadata": {
    "scrolled": false
   },
   "outputs": [],
   "source": [
    "import warnings\n",
    "warnings.filterwarnings(\"ignore\")\n",
    "import pandas as pd\n",
    "from datetime import datetime\n",
    "from datetime import timedelta, date\n",
    "import re"
   ]
  },
  {
   "cell_type": "markdown",
   "id": "5ed6cfb0",
   "metadata": {},
   "source": [
    "# Pre-processing"
   ]
  },
  {
   "cell_type": "code",
   "execution_count": 20,
   "id": "0ac5ad4e",
   "metadata": {},
   "outputs": [],
   "source": [
    "label_news=pd.read_csv('sentiment_before.csv')"
   ]
  },
  {
   "cell_type": "code",
   "execution_count": 21,
   "id": "89997ab5",
   "metadata": {
    "scrolled": true
   },
   "outputs": [],
   "source": [
    "del label_news['href']\n",
    "del label_news['subtitle']\n",
    "del label_news['content']"
   ]
  },
  {
   "cell_type": "code",
   "execution_count": 22,
   "id": "6957a644",
   "metadata": {},
   "outputs": [
    {
     "data": {
      "text/html": [
       "<div>\n",
       "<style scoped>\n",
       "    .dataframe tbody tr th:only-of-type {\n",
       "        vertical-align: middle;\n",
       "    }\n",
       "\n",
       "    .dataframe tbody tr th {\n",
       "        vertical-align: top;\n",
       "    }\n",
       "\n",
       "    .dataframe thead th {\n",
       "        text-align: right;\n",
       "    }\n",
       "</style>\n",
       "<table border=\"1\" class=\"dataframe\">\n",
       "  <thead>\n",
       "    <tr style=\"text-align: right;\">\n",
       "      <th></th>\n",
       "      <th>title</th>\n",
       "      <th>time</th>\n",
       "      <th>result</th>\n",
       "    </tr>\n",
       "  </thead>\n",
       "  <tbody>\n",
       "    <tr>\n",
       "      <th>0</th>\n",
       "      <td>HPG tăng vùn vụt, ông Trần Đình Long bỏ túi th...</td>\n",
       "      <td>25-06-2023 - 08:08 AM</td>\n",
       "      <td>['Điểm số: 70']</td>\n",
       "    </tr>\n",
       "    <tr>\n",
       "      <th>1</th>\n",
       "      <td>Tầng lớp trung lưu đang gia tăng, 1 doanh nghi...</td>\n",
       "      <td>21-06-2023 - 09:14 AM</td>\n",
       "      <td>['Từ các thông tin đã cung cấp, tôi đánh giá b...</td>\n",
       "    </tr>\n",
       "    <tr>\n",
       "      <th>2</th>\n",
       "      <td>Ông Phạm Nhật Vượng và các tỷ phú Việt giàu cỡ...</td>\n",
       "      <td>16-06-2023 - 16:25 PM</td>\n",
       "      <td>['Điểm số: 75']</td>\n",
       "    </tr>\n",
       "    <tr>\n",
       "      <th>3</th>\n",
       "      <td>Ông Phạm Nhật Vượng kêu gọi ‘xe tốt – giá tốt ...</td>\n",
       "      <td>14-06-2023 - 15:47 PM</td>\n",
       "      <td>['Điểm số cho bài báo: 65']</td>\n",
       "    </tr>\n",
       "    <tr>\n",
       "      <th>4</th>\n",
       "      <td>Chưa chính thức chào bán, Vinfast VF3 của tỷ p...</td>\n",
       "      <td>11-06-2023 - 10:09 AM</td>\n",
       "      <td>['Điểm số: 78']</td>\n",
       "    </tr>\n",
       "  </tbody>\n",
       "</table>\n",
       "</div>"
      ],
      "text/plain": [
       "                                               title                   time  \\\n",
       "0  HPG tăng vùn vụt, ông Trần Đình Long bỏ túi th...  25-06-2023 - 08:08 AM   \n",
       "1  Tầng lớp trung lưu đang gia tăng, 1 doanh nghi...  21-06-2023 - 09:14 AM   \n",
       "2  Ông Phạm Nhật Vượng và các tỷ phú Việt giàu cỡ...  16-06-2023 - 16:25 PM   \n",
       "3  Ông Phạm Nhật Vượng kêu gọi ‘xe tốt – giá tốt ...  14-06-2023 - 15:47 PM   \n",
       "4  Chưa chính thức chào bán, Vinfast VF3 của tỷ p...  11-06-2023 - 10:09 AM   \n",
       "\n",
       "                                              result  \n",
       "0                                    ['Điểm số: 70']  \n",
       "1  ['Từ các thông tin đã cung cấp, tôi đánh giá b...  \n",
       "2                                    ['Điểm số: 75']  \n",
       "3                        ['Điểm số cho bài báo: 65']  \n",
       "4                                    ['Điểm số: 78']  "
      ]
     },
     "execution_count": 22,
     "metadata": {},
     "output_type": "execute_result"
    }
   ],
   "source": [
    "label_news.head()"
   ]
  },
  {
   "cell_type": "markdown",
   "id": "2e019ab8",
   "metadata": {},
   "source": [
    "## Sentiment score to float"
   ]
  },
  {
   "cell_type": "code",
   "execution_count": 51,
   "id": "c4b52fa7",
   "metadata": {},
   "outputs": [],
   "source": [
    "def extract_num(x):\n",
    "    return x.split(':')[1]\n",
    "\n",
    "def conv_to_num(x):\n",
    "    return float(x.replace(\",\",\".\")[2:len(x)-2])\n",
    "\n",
    "def conv_to_num2(x):\n",
    "    return float(x)\n",
    "\n",
    "def conv_to_timestamp(x):\n",
    "    if isinstance(x, str):\n",
    "        return datetime.strptime(x[:-3], \"%d-%m-%Y - %H:%M\")\n",
    "    else:\n",
    "        return None\n",
    "def get_date_from_timestamp(x):\n",
    "    return datetime.fromtimestamp(x).date() + timedelta(days=0)"
   ]
  },
  {
   "cell_type": "code",
   "execution_count": 25,
   "id": "0099c12c",
   "metadata": {
    "scrolled": false
   },
   "outputs": [],
   "source": [
    "label_news['result'] = label_news['result'].astype(str)\n",
    "# Extract the number using regular expressions\n",
    "for i in range(len(label_news)):\n",
    "    numbers = re.findall(r'\\d+', label_news['result'][i])\n",
    "    if numbers:\n",
    "        label_news['result'][i] = float(numbers[0])\n",
    "    else:\n",
    "        label_news['result'][i] = 50"
   ]
  },
  {
   "cell_type": "code",
   "execution_count": 27,
   "id": "63b84776",
   "metadata": {
    "scrolled": true
   },
   "outputs": [],
   "source": [
    "label_news.to_csv('sentiment_after.csv')"
   ]
  },
  {
   "cell_type": "markdown",
   "id": "2a80c67e",
   "metadata": {},
   "source": [
    "# Group by date"
   ]
  },
  {
   "cell_type": "code",
   "execution_count": 28,
   "id": "029eb2b4",
   "metadata": {},
   "outputs": [],
   "source": [
    "def daily_new(x):\n",
    "    if x.hour < 14:\n",
    "        return x.date()\n",
    "    return x.date() + timedelta(days=1)"
   ]
  },
  {
   "cell_type": "code",
   "execution_count": 34,
   "id": "83469280",
   "metadata": {
    "scrolled": true
   },
   "outputs": [],
   "source": [
    "label_news['time'] = label_news['time'].apply(conv_to_timestamp)\n",
    "label_news.sort_values(by='time', ascending = True, inplace = True)"
   ]
  },
  {
   "cell_type": "code",
   "execution_count": 35,
   "id": "c5334428",
   "metadata": {},
   "outputs": [
    {
     "data": {
      "text/html": [
       "<div>\n",
       "<style scoped>\n",
       "    .dataframe tbody tr th:only-of-type {\n",
       "        vertical-align: middle;\n",
       "    }\n",
       "\n",
       "    .dataframe tbody tr th {\n",
       "        vertical-align: top;\n",
       "    }\n",
       "\n",
       "    .dataframe thead th {\n",
       "        text-align: right;\n",
       "    }\n",
       "</style>\n",
       "<table border=\"1\" class=\"dataframe\">\n",
       "  <thead>\n",
       "    <tr style=\"text-align: right;\">\n",
       "      <th></th>\n",
       "      <th>title</th>\n",
       "      <th>time</th>\n",
       "      <th>result</th>\n",
       "    </tr>\n",
       "  </thead>\n",
       "  <tbody>\n",
       "    <tr>\n",
       "      <th>330</th>\n",
       "      <td>Ông Phạm Nhật Vượng chính thức trở thành người...</td>\n",
       "      <td>2010-12-29 10:50:00</td>\n",
       "      <td>50</td>\n",
       "    </tr>\n",
       "    <tr>\n",
       "      <th>329</th>\n",
       "      <td>Em trai Phạm Nhật Vượng muốn kinh doanh viễn t...</td>\n",
       "      <td>2011-04-06 13:32:00</td>\n",
       "      <td>50</td>\n",
       "    </tr>\n",
       "    <tr>\n",
       "      <th>328</th>\n",
       "      <td>VIC: Ông Phạm Nhật Vượng giảm tỷ lệ sở hữu từ ...</td>\n",
       "      <td>2011-06-13 22:56:00</td>\n",
       "      <td>50</td>\n",
       "    </tr>\n",
       "    <tr>\n",
       "      <th>327</th>\n",
       "      <td>Ông Phạm Nhật Vượng đứng ra đảm bảo cho Vincom...</td>\n",
       "      <td>2011-07-27 13:44:00</td>\n",
       "      <td>50</td>\n",
       "    </tr>\n",
       "    <tr>\n",
       "      <th>326</th>\n",
       "      <td>VIC: ĐHCĐ thông qua việc ông Phạm Nhật Vượng đ...</td>\n",
       "      <td>2011-09-12 09:08:00</td>\n",
       "      <td>50</td>\n",
       "    </tr>\n",
       "  </tbody>\n",
       "</table>\n",
       "</div>"
      ],
      "text/plain": [
       "                                                 title                time  \\\n",
       "330  Ông Phạm Nhật Vượng chính thức trở thành người... 2010-12-29 10:50:00   \n",
       "329  Em trai Phạm Nhật Vượng muốn kinh doanh viễn t... 2011-04-06 13:32:00   \n",
       "328  VIC: Ông Phạm Nhật Vượng giảm tỷ lệ sở hữu từ ... 2011-06-13 22:56:00   \n",
       "327  Ông Phạm Nhật Vượng đứng ra đảm bảo cho Vincom... 2011-07-27 13:44:00   \n",
       "326  VIC: ĐHCĐ thông qua việc ông Phạm Nhật Vượng đ... 2011-09-12 09:08:00   \n",
       "\n",
       "    result  \n",
       "330     50  \n",
       "329     50  \n",
       "328     50  \n",
       "327     50  \n",
       "326     50  "
      ]
     },
     "execution_count": 35,
     "metadata": {},
     "output_type": "execute_result"
    }
   ],
   "source": [
    "label_news.head()"
   ]
  },
  {
   "cell_type": "code",
   "execution_count": 36,
   "id": "9277b166",
   "metadata": {},
   "outputs": [],
   "source": [
    "label_news.rename(columns={'result':'sentiment_score'},inplace=True)"
   ]
  },
  {
   "cell_type": "code",
   "execution_count": 37,
   "id": "4b4ec9e1",
   "metadata": {
    "scrolled": false
   },
   "outputs": [],
   "source": [
    "day_news = label_news.copy()\n",
    "day_news['Date'] = day_news['time'].apply(daily_new)"
   ]
  },
  {
   "cell_type": "code",
   "execution_count": 40,
   "id": "3ebe86bf",
   "metadata": {
    "scrolled": true
   },
   "outputs": [],
   "source": [
    "day_news = day_news.groupby('Date')['sentiment_score'].mean().reset_index()"
   ]
  },
  {
   "cell_type": "code",
   "execution_count": 41,
   "id": "3b208a74",
   "metadata": {
    "scrolled": false
   },
   "outputs": [
    {
     "data": {
      "text/html": [
       "<div>\n",
       "<style scoped>\n",
       "    .dataframe tbody tr th:only-of-type {\n",
       "        vertical-align: middle;\n",
       "    }\n",
       "\n",
       "    .dataframe tbody tr th {\n",
       "        vertical-align: top;\n",
       "    }\n",
       "\n",
       "    .dataframe thead th {\n",
       "        text-align: right;\n",
       "    }\n",
       "</style>\n",
       "<table border=\"1\" class=\"dataframe\">\n",
       "  <thead>\n",
       "    <tr style=\"text-align: right;\">\n",
       "      <th></th>\n",
       "      <th>Date</th>\n",
       "      <th>sentiment_score</th>\n",
       "    </tr>\n",
       "  </thead>\n",
       "  <tbody>\n",
       "    <tr>\n",
       "      <th>0</th>\n",
       "      <td>2010-12-29</td>\n",
       "      <td>50.0</td>\n",
       "    </tr>\n",
       "    <tr>\n",
       "      <th>1</th>\n",
       "      <td>2011-04-06</td>\n",
       "      <td>50.0</td>\n",
       "    </tr>\n",
       "    <tr>\n",
       "      <th>2</th>\n",
       "      <td>2011-06-14</td>\n",
       "      <td>50.0</td>\n",
       "    </tr>\n",
       "    <tr>\n",
       "      <th>3</th>\n",
       "      <td>2011-07-27</td>\n",
       "      <td>50.0</td>\n",
       "    </tr>\n",
       "    <tr>\n",
       "      <th>4</th>\n",
       "      <td>2011-09-12</td>\n",
       "      <td>50.0</td>\n",
       "    </tr>\n",
       "    <tr>\n",
       "      <th>...</th>\n",
       "      <td>...</td>\n",
       "      <td>...</td>\n",
       "    </tr>\n",
       "    <tr>\n",
       "      <th>256</th>\n",
       "      <td>2023-06-11</td>\n",
       "      <td>78.0</td>\n",
       "    </tr>\n",
       "    <tr>\n",
       "      <th>257</th>\n",
       "      <td>2023-06-15</td>\n",
       "      <td>65.0</td>\n",
       "    </tr>\n",
       "    <tr>\n",
       "      <th>258</th>\n",
       "      <td>2023-06-17</td>\n",
       "      <td>75.0</td>\n",
       "    </tr>\n",
       "    <tr>\n",
       "      <th>259</th>\n",
       "      <td>2023-06-21</td>\n",
       "      <td>70.0</td>\n",
       "    </tr>\n",
       "    <tr>\n",
       "      <th>260</th>\n",
       "      <td>2023-06-25</td>\n",
       "      <td>70.0</td>\n",
       "    </tr>\n",
       "  </tbody>\n",
       "</table>\n",
       "<p>261 rows × 2 columns</p>\n",
       "</div>"
      ],
      "text/plain": [
       "           Date  sentiment_score\n",
       "0    2010-12-29             50.0\n",
       "1    2011-04-06             50.0\n",
       "2    2011-06-14             50.0\n",
       "3    2011-07-27             50.0\n",
       "4    2011-09-12             50.0\n",
       "..          ...              ...\n",
       "256  2023-06-11             78.0\n",
       "257  2023-06-15             65.0\n",
       "258  2023-06-17             75.0\n",
       "259  2023-06-21             70.0\n",
       "260  2023-06-25             70.0\n",
       "\n",
       "[261 rows x 2 columns]"
      ]
     },
     "execution_count": 41,
     "metadata": {},
     "output_type": "execute_result"
    }
   ],
   "source": [
    "day_news"
   ]
  },
  {
   "cell_type": "markdown",
   "id": "04cbc077",
   "metadata": {},
   "source": [
    "# Combine with date range"
   ]
  },
  {
   "cell_type": "code",
   "execution_count": 42,
   "id": "63b05c24",
   "metadata": {},
   "outputs": [],
   "source": [
    "def daterange(start, end):\n",
    "    return [start + timedelta(n) for n in range(int((end - start).days))]"
   ]
  },
  {
   "cell_type": "code",
   "execution_count": 43,
   "id": "c23dc563",
   "metadata": {},
   "outputs": [],
   "source": [
    "full_days = pd.DataFrame(daterange(date(2008, 1, 1), date(2023, 7, 11)), columns = ['Date'])"
   ]
  },
  {
   "cell_type": "code",
   "execution_count": 44,
   "id": "cc7d2e0e",
   "metadata": {},
   "outputs": [],
   "source": [
    "day_news = full_days.merge(day_news, on=['Date'], how='left')"
   ]
  },
  {
   "cell_type": "code",
   "execution_count": 45,
   "id": "97776f12",
   "metadata": {
    "scrolled": false
   },
   "outputs": [
    {
     "data": {
      "text/html": [
       "<div>\n",
       "<style scoped>\n",
       "    .dataframe tbody tr th:only-of-type {\n",
       "        vertical-align: middle;\n",
       "    }\n",
       "\n",
       "    .dataframe tbody tr th {\n",
       "        vertical-align: top;\n",
       "    }\n",
       "\n",
       "    .dataframe thead th {\n",
       "        text-align: right;\n",
       "    }\n",
       "</style>\n",
       "<table border=\"1\" class=\"dataframe\">\n",
       "  <thead>\n",
       "    <tr style=\"text-align: right;\">\n",
       "      <th></th>\n",
       "      <th>Date</th>\n",
       "      <th>sentiment_score</th>\n",
       "    </tr>\n",
       "  </thead>\n",
       "  <tbody>\n",
       "    <tr>\n",
       "      <th>0</th>\n",
       "      <td>2008-01-01</td>\n",
       "      <td>NaN</td>\n",
       "    </tr>\n",
       "    <tr>\n",
       "      <th>1</th>\n",
       "      <td>2008-01-02</td>\n",
       "      <td>NaN</td>\n",
       "    </tr>\n",
       "    <tr>\n",
       "      <th>2</th>\n",
       "      <td>2008-01-03</td>\n",
       "      <td>NaN</td>\n",
       "    </tr>\n",
       "    <tr>\n",
       "      <th>3</th>\n",
       "      <td>2008-01-04</td>\n",
       "      <td>NaN</td>\n",
       "    </tr>\n",
       "    <tr>\n",
       "      <th>4</th>\n",
       "      <td>2008-01-05</td>\n",
       "      <td>NaN</td>\n",
       "    </tr>\n",
       "    <tr>\n",
       "      <th>...</th>\n",
       "      <td>...</td>\n",
       "      <td>...</td>\n",
       "    </tr>\n",
       "    <tr>\n",
       "      <th>5665</th>\n",
       "      <td>2023-07-06</td>\n",
       "      <td>NaN</td>\n",
       "    </tr>\n",
       "    <tr>\n",
       "      <th>5666</th>\n",
       "      <td>2023-07-07</td>\n",
       "      <td>NaN</td>\n",
       "    </tr>\n",
       "    <tr>\n",
       "      <th>5667</th>\n",
       "      <td>2023-07-08</td>\n",
       "      <td>NaN</td>\n",
       "    </tr>\n",
       "    <tr>\n",
       "      <th>5668</th>\n",
       "      <td>2023-07-09</td>\n",
       "      <td>NaN</td>\n",
       "    </tr>\n",
       "    <tr>\n",
       "      <th>5669</th>\n",
       "      <td>2023-07-10</td>\n",
       "      <td>NaN</td>\n",
       "    </tr>\n",
       "  </tbody>\n",
       "</table>\n",
       "<p>5670 rows × 2 columns</p>\n",
       "</div>"
      ],
      "text/plain": [
       "            Date  sentiment_score\n",
       "0     2008-01-01              NaN\n",
       "1     2008-01-02              NaN\n",
       "2     2008-01-03              NaN\n",
       "3     2008-01-04              NaN\n",
       "4     2008-01-05              NaN\n",
       "...          ...              ...\n",
       "5665  2023-07-06              NaN\n",
       "5666  2023-07-07              NaN\n",
       "5667  2023-07-08              NaN\n",
       "5668  2023-07-09              NaN\n",
       "5669  2023-07-10              NaN\n",
       "\n",
       "[5670 rows x 2 columns]"
      ]
     },
     "execution_count": 45,
     "metadata": {},
     "output_type": "execute_result"
    }
   ],
   "source": [
    "day_news"
   ]
  },
  {
   "cell_type": "markdown",
   "id": "6c69885f",
   "metadata": {},
   "source": [
    "# Combine with price"
   ]
  },
  {
   "cell_type": "code",
   "execution_count": 46,
   "id": "fcfac721",
   "metadata": {},
   "outputs": [],
   "source": [
    "day_news = day_news.ffill()\n",
    "day_news=day_news.fillna(50)"
   ]
  },
  {
   "cell_type": "code",
   "execution_count": 56,
   "id": "b875a80a",
   "metadata": {},
   "outputs": [],
   "source": [
    "price_df = pd.read_csv('VIC_SSI.csv')"
   ]
  },
  {
   "cell_type": "code",
   "execution_count": 57,
   "id": "01ac0d1a",
   "metadata": {},
   "outputs": [],
   "source": [
    "price_df['Date'] = price_df['t'].apply(get_date_from_timestamp)"
   ]
  },
  {
   "cell_type": "code",
   "execution_count": 60,
   "id": "d0759f7c",
   "metadata": {},
   "outputs": [],
   "source": [
    "price_df = price_df.merge(day_news, how='left', on=['Date'])"
   ]
  },
  {
   "cell_type": "code",
   "execution_count": 62,
   "id": "219fa425",
   "metadata": {},
   "outputs": [],
   "source": [
    "del price_df['Unnamed: 0']"
   ]
  },
  {
   "cell_type": "code",
   "execution_count": 63,
   "id": "32ed825b",
   "metadata": {},
   "outputs": [
    {
     "data": {
      "text/html": [
       "<div>\n",
       "<style scoped>\n",
       "    .dataframe tbody tr th:only-of-type {\n",
       "        vertical-align: middle;\n",
       "    }\n",
       "\n",
       "    .dataframe tbody tr th {\n",
       "        vertical-align: top;\n",
       "    }\n",
       "\n",
       "    .dataframe thead th {\n",
       "        text-align: right;\n",
       "    }\n",
       "</style>\n",
       "<table border=\"1\" class=\"dataframe\">\n",
       "  <thead>\n",
       "    <tr style=\"text-align: right;\">\n",
       "      <th></th>\n",
       "      <th>t</th>\n",
       "      <th>c</th>\n",
       "      <th>o</th>\n",
       "      <th>h</th>\n",
       "      <th>l</th>\n",
       "      <th>v</th>\n",
       "      <th>s</th>\n",
       "      <th>Date</th>\n",
       "      <th>sentiment_score</th>\n",
       "    </tr>\n",
       "  </thead>\n",
       "  <tbody>\n",
       "    <tr>\n",
       "      <th>0</th>\n",
       "      <td>1199232000</td>\n",
       "      <td>6.13</td>\n",
       "      <td>6.09</td>\n",
       "      <td>6.13</td>\n",
       "      <td>6.05</td>\n",
       "      <td>156160</td>\n",
       "      <td>ok</td>\n",
       "      <td>2008-01-02</td>\n",
       "      <td>50.0</td>\n",
       "    </tr>\n",
       "    <tr>\n",
       "      <th>1</th>\n",
       "      <td>1199318400</td>\n",
       "      <td>6.01</td>\n",
       "      <td>6.05</td>\n",
       "      <td>6.09</td>\n",
       "      <td>6.01</td>\n",
       "      <td>111990</td>\n",
       "      <td>ok</td>\n",
       "      <td>2008-01-03</td>\n",
       "      <td>50.0</td>\n",
       "    </tr>\n",
       "    <tr>\n",
       "      <th>2</th>\n",
       "      <td>1199404800</td>\n",
       "      <td>5.93</td>\n",
       "      <td>5.97</td>\n",
       "      <td>5.97</td>\n",
       "      <td>5.93</td>\n",
       "      <td>66670</td>\n",
       "      <td>ok</td>\n",
       "      <td>2008-01-04</td>\n",
       "      <td>50.0</td>\n",
       "    </tr>\n",
       "    <tr>\n",
       "      <th>3</th>\n",
       "      <td>1199664000</td>\n",
       "      <td>5.85</td>\n",
       "      <td>5.89</td>\n",
       "      <td>5.93</td>\n",
       "      <td>5.78</td>\n",
       "      <td>117490</td>\n",
       "      <td>ok</td>\n",
       "      <td>2008-01-07</td>\n",
       "      <td>50.0</td>\n",
       "    </tr>\n",
       "    <tr>\n",
       "      <th>4</th>\n",
       "      <td>1199750400</td>\n",
       "      <td>5.89</td>\n",
       "      <td>5.85</td>\n",
       "      <td>6.01</td>\n",
       "      <td>5.85</td>\n",
       "      <td>109010</td>\n",
       "      <td>ok</td>\n",
       "      <td>2008-01-08</td>\n",
       "      <td>50.0</td>\n",
       "    </tr>\n",
       "    <tr>\n",
       "      <th>...</th>\n",
       "      <td>...</td>\n",
       "      <td>...</td>\n",
       "      <td>...</td>\n",
       "      <td>...</td>\n",
       "      <td>...</td>\n",
       "      <td>...</td>\n",
       "      <td>...</td>\n",
       "      <td>...</td>\n",
       "      <td>...</td>\n",
       "    </tr>\n",
       "    <tr>\n",
       "      <th>3849</th>\n",
       "      <td>1688515200</td>\n",
       "      <td>51.00</td>\n",
       "      <td>51.40</td>\n",
       "      <td>51.60</td>\n",
       "      <td>50.90</td>\n",
       "      <td>2479200</td>\n",
       "      <td>ok</td>\n",
       "      <td>2023-07-05</td>\n",
       "      <td>70.0</td>\n",
       "    </tr>\n",
       "    <tr>\n",
       "      <th>3850</th>\n",
       "      <td>1688601600</td>\n",
       "      <td>50.40</td>\n",
       "      <td>51.00</td>\n",
       "      <td>51.40</td>\n",
       "      <td>50.40</td>\n",
       "      <td>2599600</td>\n",
       "      <td>ok</td>\n",
       "      <td>2023-07-06</td>\n",
       "      <td>70.0</td>\n",
       "    </tr>\n",
       "    <tr>\n",
       "      <th>3851</th>\n",
       "      <td>1688688000</td>\n",
       "      <td>50.10</td>\n",
       "      <td>50.50</td>\n",
       "      <td>50.60</td>\n",
       "      <td>50.00</td>\n",
       "      <td>2941600</td>\n",
       "      <td>ok</td>\n",
       "      <td>2023-07-07</td>\n",
       "      <td>70.0</td>\n",
       "    </tr>\n",
       "    <tr>\n",
       "      <th>3852</th>\n",
       "      <td>1688947200</td>\n",
       "      <td>50.90</td>\n",
       "      <td>50.50</td>\n",
       "      <td>51.20</td>\n",
       "      <td>50.20</td>\n",
       "      <td>3345300</td>\n",
       "      <td>ok</td>\n",
       "      <td>2023-07-10</td>\n",
       "      <td>70.0</td>\n",
       "    </tr>\n",
       "    <tr>\n",
       "      <th>3853</th>\n",
       "      <td>1689033600</td>\n",
       "      <td>50.80</td>\n",
       "      <td>51.00</td>\n",
       "      <td>51.30</td>\n",
       "      <td>50.80</td>\n",
       "      <td>1927900</td>\n",
       "      <td>ok</td>\n",
       "      <td>2023-07-11</td>\n",
       "      <td>NaN</td>\n",
       "    </tr>\n",
       "  </tbody>\n",
       "</table>\n",
       "<p>3854 rows × 9 columns</p>\n",
       "</div>"
      ],
      "text/plain": [
       "               t      c      o      h      l        v   s        Date  \\\n",
       "0     1199232000   6.13   6.09   6.13   6.05   156160  ok  2008-01-02   \n",
       "1     1199318400   6.01   6.05   6.09   6.01   111990  ok  2008-01-03   \n",
       "2     1199404800   5.93   5.97   5.97   5.93    66670  ok  2008-01-04   \n",
       "3     1199664000   5.85   5.89   5.93   5.78   117490  ok  2008-01-07   \n",
       "4     1199750400   5.89   5.85   6.01   5.85   109010  ok  2008-01-08   \n",
       "...          ...    ...    ...    ...    ...      ...  ..         ...   \n",
       "3849  1688515200  51.00  51.40  51.60  50.90  2479200  ok  2023-07-05   \n",
       "3850  1688601600  50.40  51.00  51.40  50.40  2599600  ok  2023-07-06   \n",
       "3851  1688688000  50.10  50.50  50.60  50.00  2941600  ok  2023-07-07   \n",
       "3852  1688947200  50.90  50.50  51.20  50.20  3345300  ok  2023-07-10   \n",
       "3853  1689033600  50.80  51.00  51.30  50.80  1927900  ok  2023-07-11   \n",
       "\n",
       "      sentiment_score  \n",
       "0                50.0  \n",
       "1                50.0  \n",
       "2                50.0  \n",
       "3                50.0  \n",
       "4                50.0  \n",
       "...               ...  \n",
       "3849             70.0  \n",
       "3850             70.0  \n",
       "3851             70.0  \n",
       "3852             70.0  \n",
       "3853              NaN  \n",
       "\n",
       "[3854 rows x 9 columns]"
      ]
     },
     "execution_count": 63,
     "metadata": {},
     "output_type": "execute_result"
    }
   ],
   "source": [
    "price_df"
   ]
  },
  {
   "cell_type": "code",
   "execution_count": 64,
   "id": "63ea819d",
   "metadata": {},
   "outputs": [],
   "source": [
    "price_df=price_df.fillna(50)"
   ]
  },
  {
   "cell_type": "code",
   "execution_count": 68,
   "id": "a37bb190",
   "metadata": {
    "scrolled": true
   },
   "outputs": [
    {
     "data": {
      "text/html": [
       "<div>\n",
       "<style scoped>\n",
       "    .dataframe tbody tr th:only-of-type {\n",
       "        vertical-align: middle;\n",
       "    }\n",
       "\n",
       "    .dataframe tbody tr th {\n",
       "        vertical-align: top;\n",
       "    }\n",
       "\n",
       "    .dataframe thead th {\n",
       "        text-align: right;\n",
       "    }\n",
       "</style>\n",
       "<table border=\"1\" class=\"dataframe\">\n",
       "  <thead>\n",
       "    <tr style=\"text-align: right;\">\n",
       "      <th></th>\n",
       "      <th>c</th>\n",
       "      <th>o</th>\n",
       "      <th>h</th>\n",
       "      <th>l</th>\n",
       "      <th>v</th>\n",
       "      <th>sentiment_score</th>\n",
       "    </tr>\n",
       "  </thead>\n",
       "  <tbody>\n",
       "    <tr>\n",
       "      <th>c</th>\n",
       "      <td>1.000000</td>\n",
       "      <td>0.999622</td>\n",
       "      <td>0.999819</td>\n",
       "      <td>0.999754</td>\n",
       "      <td>0.426460</td>\n",
       "      <td>0.463974</td>\n",
       "    </tr>\n",
       "    <tr>\n",
       "      <th>o</th>\n",
       "      <td>0.999622</td>\n",
       "      <td>1.000000</td>\n",
       "      <td>0.999792</td>\n",
       "      <td>0.999797</td>\n",
       "      <td>0.426444</td>\n",
       "      <td>0.464984</td>\n",
       "    </tr>\n",
       "    <tr>\n",
       "      <th>h</th>\n",
       "      <td>0.999819</td>\n",
       "      <td>0.999792</td>\n",
       "      <td>1.000000</td>\n",
       "      <td>0.999694</td>\n",
       "      <td>0.431056</td>\n",
       "      <td>0.464558</td>\n",
       "    </tr>\n",
       "    <tr>\n",
       "      <th>l</th>\n",
       "      <td>0.999754</td>\n",
       "      <td>0.999797</td>\n",
       "      <td>0.999694</td>\n",
       "      <td>1.000000</td>\n",
       "      <td>0.422077</td>\n",
       "      <td>0.464807</td>\n",
       "    </tr>\n",
       "    <tr>\n",
       "      <th>v</th>\n",
       "      <td>0.426460</td>\n",
       "      <td>0.426444</td>\n",
       "      <td>0.431056</td>\n",
       "      <td>0.422077</td>\n",
       "      <td>1.000000</td>\n",
       "      <td>0.293209</td>\n",
       "    </tr>\n",
       "    <tr>\n",
       "      <th>sentiment_score</th>\n",
       "      <td>0.463974</td>\n",
       "      <td>0.464984</td>\n",
       "      <td>0.464558</td>\n",
       "      <td>0.464807</td>\n",
       "      <td>0.293209</td>\n",
       "      <td>1.000000</td>\n",
       "    </tr>\n",
       "  </tbody>\n",
       "</table>\n",
       "</div>"
      ],
      "text/plain": [
       "                        c         o         h         l         v  \\\n",
       "c                1.000000  0.999622  0.999819  0.999754  0.426460   \n",
       "o                0.999622  1.000000  0.999792  0.999797  0.426444   \n",
       "h                0.999819  0.999792  1.000000  0.999694  0.431056   \n",
       "l                0.999754  0.999797  0.999694  1.000000  0.422077   \n",
       "v                0.426460  0.426444  0.431056  0.422077  1.000000   \n",
       "sentiment_score  0.463974  0.464984  0.464558  0.464807  0.293209   \n",
       "\n",
       "                 sentiment_score  \n",
       "c                       0.463974  \n",
       "o                       0.464984  \n",
       "h                       0.464558  \n",
       "l                       0.464807  \n",
       "v                       0.293209  \n",
       "sentiment_score         1.000000  "
      ]
     },
     "execution_count": 68,
     "metadata": {},
     "output_type": "execute_result"
    }
   ],
   "source": [
    "price_df[['c','o','h','l','v','sentiment_score']].corr()"
   ]
  },
  {
   "cell_type": "code",
   "execution_count": 69,
   "id": "eb08adf6",
   "metadata": {},
   "outputs": [],
   "source": [
    "price_df.to_csv('VIC_sentiment.csv')"
   ]
  }
 ],
 "metadata": {
  "kernelspec": {
   "display_name": "Python 3 (ipykernel)",
   "language": "python",
   "name": "python3"
  },
  "language_info": {
   "codemirror_mode": {
    "name": "ipython",
    "version": 3
   },
   "file_extension": ".py",
   "mimetype": "text/x-python",
   "name": "python",
   "nbconvert_exporter": "python",
   "pygments_lexer": "ipython3",
   "version": "3.8.8"
  }
 },
 "nbformat": 4,
 "nbformat_minor": 5
}
